{
 "cells": [
  {
   "cell_type": "code",
   "execution_count": 1,
   "metadata": {},
   "outputs": [],
   "source": [
    "# - Rock vs paper-> paper wins\n",
    "# - Rock vs scissor-> Rock wins\n",
    "# - paper vs scissor-> scissor wins."
   ]
  },
  {
   "cell_type": "code",
   "execution_count": null,
   "metadata": {},
   "outputs": [],
   "source": [
    "###  step-1: User choice\n",
    "###  step-2: Computer choice\n",
    "###  step-3: Determine the Winner\n",
    "###  step-4: play again"
   ]
  },
  {
   "cell_type": "code",
   "execution_count": 1,
   "metadata": {},
   "outputs": [
    {
     "name": "stdout",
     "output_type": "stream",
     "text": [
      "Welcome to the rock, paper, scissor Game:\n",
      "Press \"Enter\" to continue if you know the game rule. Or { Rule } for display rules of game:  rule\n",
      "\n",
      "            \n",
      "                                            ************** Rules **************\n",
      "                                            *************** Of ***************\n",
      "                                            ************** Game **************\n",
      "            \n",
      "            1-) The user gets the First chance to choice from ['rock', 'paper', 'scissor']\n",
      "            2-) The computer gets the Second chance to choice \"randomly\" from ['rock', 'paper', 'scissor']\n",
      "            \n",
      "            3-) rock vs paper  ====>>> paper wins\n",
      "            4-) rock vs scissor  ====>>> rock wins\n",
      "            5-) paper vs scissor  ====>>> scissor wins.\n",
      "            \n",
      "            \n"
     ]
    }
   ],
   "source": [
    "\n",
    "choices = [\"rock\", \"paper\", \"scissor\"]\n",
    "\n",
    "print(\"Welcome to the rock, paper, scissor Game:\")\n",
    "\n",
    "confirm_rules = input(\"Press \\\"Enter\\\" to continue if you know the game rule. Or { Rule } for display rules of game:  \").lower()\n",
    "if confirm_rules == \"rule\":\n",
    "    print(f\"\"\"\n",
    "            \n",
    "                                            ************** Rules **************\n",
    "                                            *************** Of ***************\n",
    "                                            ************** Game **************\n",
    "            \n",
    "            1-) The user gets the First chance to choice from {choices}\n",
    "            2-) The computer gets the Second chance to choice \\\"randomly\\\" from {choices}\n",
    "            \n",
    "            3-) rock vs paper  ====>>> paper wins\n",
    "            4-) rock vs scissor  ====>>> rock wins\n",
    "            5-) paper vs scissor  ====>>> scissor wins.\n",
    "            \n",
    "            \"\"\")\n",
    "\n",
    "    "
   ]
  },
  {
   "cell_type": "code",
   "execution_count": 2,
   "metadata": {},
   "outputs": [],
   "source": [
    "from random import choice\n",
    "\n",
    "def Rock_Paper_Scissor_Game():\n",
    "\n",
    "    while True:\n",
    "\n",
    "        user_wins = 0\n",
    "        computer_wins = 0\n",
    "\n",
    "        for chance in range(3):\n",
    "\n",
    "\n",
    "            ###  step-1: User choice\n",
    "\n",
    "            user_choice = input(f\"Enter your choice from {choices}:  \").lower()\n",
    "\n",
    "            if user_choice not in choices:\n",
    "                print(\"Invalid choice. Please run the game again.\")\n",
    "                continue\n",
    "\n",
    "            else:\n",
    "                print(f\"The User choice is: {user_choice}\")\n",
    "\n",
    "\n",
    "\n",
    "\n",
    "            ###  step-2: Computer choice\n",
    "\n",
    "            computer_choice = choice(choices)\n",
    "            print(f\"The computer choice is: {computer_choice}\")\n",
    "\n",
    "\n",
    "\n",
    "            ###  step-3: Determine the Winner\n",
    "\n",
    "\n",
    "            if user_choice == computer_choice:\n",
    "                user_wins = user_wins\n",
    "                computer_wins = computer_wins\n",
    "\n",
    "            elif ( \n",
    "                (user_choice == \"rock\" and computer_choice == \"scissor\")\n",
    "                or\n",
    "                (user_choice == \"paper\" and computer_choice == \"rock\")\n",
    "                or\n",
    "                (user_choice == \"scissor\" and computer_choice == \"paper\")\n",
    "                ):\n",
    "                user_wins += 1\n",
    "\n",
    "\n",
    "            else:\n",
    "                computer_wins +=1\n",
    "\n",
    "\n",
    "\n",
    "        if user_wins == computer_wins:\n",
    "            print(f\"The result is: =====>>>     {user_wins} : {computer_wins}\")\n",
    "            print(\"It’s a tie!\\n\\n\")\n",
    "\n",
    "        elif(user_wins > computer_wins):\n",
    "            print(f\"The result is: =====>>>     {user_wins} : {computer_wins}\")\n",
    "            print(f\"You Win! Kingggggggg\\n\\n\")\n",
    "\n",
    "        else:   #(user_wins < computer_wins)\n",
    "            print(f\"The result is: =====>>>     {computer_wins} : {user_wins}\")\n",
    "            print(f\"You Lose! Game Over\\n\\n\")\n",
    "\n",
    "\n",
    "\n",
    "        ###  step-4: play again\n",
    "\n",
    "        play_again = input(\"want to play again? yes / no: \")\n",
    "        if play_again.lower() == 'no':\n",
    "            print(\"Good bye see you again\")\n",
    "            break\n",
    "\n",
    "\n"
   ]
  },
  {
   "cell_type": "code",
   "execution_count": 4,
   "metadata": {},
   "outputs": [
    {
     "name": "stdout",
     "output_type": "stream",
     "text": [
      "Enter your choice from ['rock', 'paper', 'scissor']:  scissor\n",
      "The User choice is: scissor\n",
      "The computer choice is: paper\n",
      "Enter your choice from ['rock', 'paper', 'scissor']:  rock\n",
      "The User choice is: rock\n",
      "The computer choice is: paper\n",
      "Enter your choice from ['rock', 'paper', 'scissor']:  scissor\n",
      "The User choice is: scissor\n",
      "The computer choice is: scissor\n",
      "The result is: =====>>>     1 : 1\n",
      "It’s a tie!\n",
      "\n",
      "\n",
      "want to play again? yes / no: no\n",
      "Good bye see you again\n"
     ]
    }
   ],
   "source": [
    "Rock_Paper_Scissor_Game()"
   ]
  },
  {
   "cell_type": "code",
   "execution_count": null,
   "metadata": {},
   "outputs": [],
   "source": []
  }
 ],
 "metadata": {
  "kernelspec": {
   "display_name": "Python 3",
   "language": "python",
   "name": "python3"
  },
  "language_info": {
   "codemirror_mode": {
    "name": "ipython",
    "version": 3
   },
   "file_extension": ".py",
   "mimetype": "text/x-python",
   "name": "python",
   "nbconvert_exporter": "python",
   "pygments_lexer": "ipython3",
   "version": "3.7.6"
  }
 },
 "nbformat": 4,
 "nbformat_minor": 4
}
